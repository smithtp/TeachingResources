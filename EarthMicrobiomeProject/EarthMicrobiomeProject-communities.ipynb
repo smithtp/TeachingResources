{
 "cells": [
  {
   "cell_type": "markdown",
   "metadata": {},
   "source": [
    "Minimal example trying to get taxonomy information out of EMP communities\n",
    "\n",
    "*Tom Smith 2022*"
   ]
  },
  {
   "cell_type": "code",
   "execution_count": 82,
   "metadata": {},
   "outputs": [],
   "source": [
    "import biom\n",
    "import pandas as pd"
   ]
  },
  {
   "cell_type": "code",
   "execution_count": 83,
   "metadata": {},
   "outputs": [],
   "source": [
    "#loading biom table\n",
    "table=biom.load_table('emp_deblur_150bp.subset_2k.rare_5000.biom')"
   ]
  },
  {
   "cell_type": "code",
   "execution_count": 84,
   "metadata": {},
   "outputs": [
    {
     "data": {
      "text/plain": [
       "91364"
      ]
     },
     "execution_count": 84,
     "metadata": {},
     "output_type": "execute_result"
    }
   ],
   "source": [
    "#get all OTUs\n",
    "obs_arr=(table.ids('observation'))\n",
    "len(obs_arr)"
   ]
  },
  {
   "cell_type": "code",
   "execution_count": 85,
   "metadata": {},
   "outputs": [
    {
     "data": {
      "text/plain": [
       "975"
      ]
     },
     "execution_count": 85,
     "metadata": {},
     "output_type": "execute_result"
    }
   ],
   "source": [
    "#get sample ids\n",
    "sample_arr=table.ids('sample')\n",
    "len(sample_arr) #number of samples in the table"
   ]
  },
  {
   "cell_type": "markdown",
   "metadata": {},
   "source": [
    "Seems a bit suspicious, shouldn't there be 2000 sample IDs in the 2k subset? Oh well, we'll ignore that for now...\n",
    "\n",
    "The biom table is like a table of OTUs X Sample, so we just need to know which OTUs appear in which sample?"
   ]
  },
  {
   "cell_type": "code",
   "execution_count": 86,
   "metadata": {},
   "outputs": [],
   "source": [
    "sample_data=sample_arr[0] # subsetting to just the first sample ID\n",
    "sample_freq=table.data(sample_data,axis='sample', dense=True) # \"which elements of the OTU table have this sample id?\""
   ]
  },
  {
   "cell_type": "code",
   "execution_count": 87,
   "metadata": {},
   "outputs": [
    {
     "data": {
      "text/plain": [
       "1315"
      ]
     },
     "execution_count": 87,
     "metadata": {},
     "output_type": "execute_result"
    }
   ],
   "source": [
    "# try to pull out the data associated with the OTUs within that sample\n",
    "nz_ind=sample_freq !=0 #stores positions corresponding to OTUs where the sample frequency is non-zero\n",
    "sample_otus=obs_arr[nz_ind] # get the OTUs \n",
    "taxa_present=[]\n",
    "for otu in sample_otus[:]: # loop through each OTU within the sample and collect its taxonomy data\n",
    "    taxa_present.append(table.metadata(otu,'observation')['taxonomy'])\n",
    "len(taxa_present) # how many taxa are there?"
   ]
  },
  {
   "cell_type": "code",
   "execution_count": 88,
   "metadata": {
    "scrolled": true
   },
   "outputs": [
    {
     "data": {
      "text/html": [
       "<div>\n",
       "<style scoped>\n",
       "    .dataframe tbody tr th:only-of-type {\n",
       "        vertical-align: middle;\n",
       "    }\n",
       "\n",
       "    .dataframe tbody tr th {\n",
       "        vertical-align: top;\n",
       "    }\n",
       "\n",
       "    .dataframe thead th {\n",
       "        text-align: right;\n",
       "    }\n",
       "</style>\n",
       "<table border=\"1\" class=\"dataframe\">\n",
       "  <thead>\n",
       "    <tr style=\"text-align: right;\">\n",
       "      <th></th>\n",
       "      <th>Kingdom</th>\n",
       "      <th>Phylum</th>\n",
       "      <th>Class</th>\n",
       "      <th>Order</th>\n",
       "      <th>Family</th>\n",
       "      <th>Genus</th>\n",
       "      <th>Species</th>\n",
       "    </tr>\n",
       "  </thead>\n",
       "  <tbody>\n",
       "    <tr>\n",
       "      <th>0</th>\n",
       "      <td>k__Bacteria</td>\n",
       "      <td>p__Acidobacteria</td>\n",
       "      <td>c__Acidobacteria-6</td>\n",
       "      <td>o__iii1-15</td>\n",
       "      <td>f__</td>\n",
       "      <td>g__</td>\n",
       "      <td>s__</td>\n",
       "    </tr>\n",
       "    <tr>\n",
       "      <th>1</th>\n",
       "      <td>k__Bacteria</td>\n",
       "      <td>p__Proteobacteria</td>\n",
       "      <td>c__Gammaproteobacteria</td>\n",
       "      <td>o__Xanthomonadales</td>\n",
       "      <td>f__Xanthomonadaceae</td>\n",
       "      <td>g__Luteimonas</td>\n",
       "      <td>s__</td>\n",
       "    </tr>\n",
       "    <tr>\n",
       "      <th>2</th>\n",
       "      <td>k__Bacteria</td>\n",
       "      <td>p__Actinobacteria</td>\n",
       "      <td>c__Thermoleophilia</td>\n",
       "      <td>o__Gaiellales</td>\n",
       "      <td>f__</td>\n",
       "      <td>g__</td>\n",
       "      <td>s__</td>\n",
       "    </tr>\n",
       "    <tr>\n",
       "      <th>3</th>\n",
       "      <td>k__Bacteria</td>\n",
       "      <td>p__Acidobacteria</td>\n",
       "      <td>c__Acidobacteria-6</td>\n",
       "      <td>o__iii1-15</td>\n",
       "      <td>f__mb2424</td>\n",
       "      <td>g__</td>\n",
       "      <td>s__</td>\n",
       "    </tr>\n",
       "    <tr>\n",
       "      <th>4</th>\n",
       "      <td>k__Bacteria</td>\n",
       "      <td>p__Actinobacteria</td>\n",
       "      <td>c__Thermoleophilia</td>\n",
       "      <td>o__Gaiellales</td>\n",
       "      <td>f__Gaiellaceae</td>\n",
       "      <td>g__</td>\n",
       "      <td>s__</td>\n",
       "    </tr>\n",
       "    <tr>\n",
       "      <th>...</th>\n",
       "      <td>...</td>\n",
       "      <td>...</td>\n",
       "      <td>...</td>\n",
       "      <td>...</td>\n",
       "      <td>...</td>\n",
       "      <td>...</td>\n",
       "      <td>...</td>\n",
       "    </tr>\n",
       "    <tr>\n",
       "      <th>1310</th>\n",
       "      <td>k__Bacteria</td>\n",
       "      <td>p__Proteobacteria</td>\n",
       "      <td>c__Deltaproteobacteria</td>\n",
       "      <td>o__Desulfuromonadales</td>\n",
       "      <td>f__Pelobacteraceae</td>\n",
       "      <td>g__</td>\n",
       "      <td>s__</td>\n",
       "    </tr>\n",
       "    <tr>\n",
       "      <th>1311</th>\n",
       "      <td>k__Bacteria</td>\n",
       "      <td>p__Proteobacteria</td>\n",
       "      <td>c__Alphaproteobacteria</td>\n",
       "      <td>o__Rhizobiales</td>\n",
       "      <td>f__Methylocystaceae</td>\n",
       "      <td>g__Methylosinus</td>\n",
       "      <td>s__</td>\n",
       "    </tr>\n",
       "    <tr>\n",
       "      <th>1312</th>\n",
       "      <td>k__Bacteria</td>\n",
       "      <td>p__Bacteroidetes</td>\n",
       "      <td>c__[Saprospirae]</td>\n",
       "      <td>o__[Saprospirales]</td>\n",
       "      <td>f__Chitinophagaceae</td>\n",
       "      <td>g__</td>\n",
       "      <td>s__</td>\n",
       "    </tr>\n",
       "    <tr>\n",
       "      <th>1313</th>\n",
       "      <td>k__Bacteria</td>\n",
       "      <td>p__Proteobacteria</td>\n",
       "      <td>c__Betaproteobacteria</td>\n",
       "      <td>None</td>\n",
       "      <td>None</td>\n",
       "      <td>None</td>\n",
       "      <td>None</td>\n",
       "    </tr>\n",
       "    <tr>\n",
       "      <th>1314</th>\n",
       "      <td>k__Bacteria</td>\n",
       "      <td>p__Proteobacteria</td>\n",
       "      <td>c__Betaproteobacteria</td>\n",
       "      <td>o__</td>\n",
       "      <td>f__</td>\n",
       "      <td>g__</td>\n",
       "      <td>s__</td>\n",
       "    </tr>\n",
       "  </tbody>\n",
       "</table>\n",
       "<p>1315 rows × 7 columns</p>\n",
       "</div>"
      ],
      "text/plain": [
       "          Kingdom             Phylum                   Class  \\\n",
       "0     k__Bacteria   p__Acidobacteria      c__Acidobacteria-6   \n",
       "1     k__Bacteria  p__Proteobacteria  c__Gammaproteobacteria   \n",
       "2     k__Bacteria  p__Actinobacteria      c__Thermoleophilia   \n",
       "3     k__Bacteria   p__Acidobacteria      c__Acidobacteria-6   \n",
       "4     k__Bacteria  p__Actinobacteria      c__Thermoleophilia   \n",
       "...           ...                ...                     ...   \n",
       "1310  k__Bacteria  p__Proteobacteria  c__Deltaproteobacteria   \n",
       "1311  k__Bacteria  p__Proteobacteria  c__Alphaproteobacteria   \n",
       "1312  k__Bacteria   p__Bacteroidetes        c__[Saprospirae]   \n",
       "1313  k__Bacteria  p__Proteobacteria   c__Betaproteobacteria   \n",
       "1314  k__Bacteria  p__Proteobacteria   c__Betaproteobacteria   \n",
       "\n",
       "                      Order               Family            Genus Species  \n",
       "0                o__iii1-15                  f__              g__     s__  \n",
       "1        o__Xanthomonadales  f__Xanthomonadaceae    g__Luteimonas     s__  \n",
       "2             o__Gaiellales                  f__              g__     s__  \n",
       "3                o__iii1-15            f__mb2424              g__     s__  \n",
       "4             o__Gaiellales       f__Gaiellaceae              g__     s__  \n",
       "...                     ...                  ...              ...     ...  \n",
       "1310  o__Desulfuromonadales   f__Pelobacteraceae              g__     s__  \n",
       "1311         o__Rhizobiales  f__Methylocystaceae  g__Methylosinus     s__  \n",
       "1312     o__[Saprospirales]  f__Chitinophagaceae              g__     s__  \n",
       "1313                   None                 None             None    None  \n",
       "1314                    o__                  f__              g__     s__  \n",
       "\n",
       "[1315 rows x 7 columns]"
      ]
     },
     "execution_count": 88,
     "metadata": {},
     "output_type": "execute_result"
    }
   ],
   "source": [
    "# put this into a dataframe\n",
    "df_otu_result = pd.DataFrame.from_dict(taxa_present)\n",
    "df_otu_result.columns = ['Kingdom', 'Phylum', 'Class', 'Order', 'Family', 'Genus', 'Species']\n",
    "df_otu_result"
   ]
  },
  {
   "cell_type": "code",
   "execution_count": 89,
   "metadata": {},
   "outputs": [],
   "source": [
    "# can write this out somewhere if we like:\n",
    "df_otu_result.to_csv('results_otu.csv')"
   ]
  },
  {
   "cell_type": "markdown",
   "metadata": {},
   "source": [
    "That was an example for just one of the communities in the dataset (samples). You'd want to do something like write a loop through all the sample IDs and pull out the OTU taxonomy from each sample.\n",
    "\n",
    "Looks like a large proportion of these OTUs don't have taxonomy assigned to the species level though, this is likely to be a problem for our purposes...."
   ]
  }
 ],
 "metadata": {
  "kernelspec": {
   "display_name": "Python 3",
   "language": "python",
   "name": "python3"
  },
  "language_info": {
   "codemirror_mode": {
    "name": "ipython",
    "version": 3
   },
   "file_extension": ".py",
   "mimetype": "text/x-python",
   "name": "python",
   "nbconvert_exporter": "python",
   "pygments_lexer": "ipython3",
   "version": "3.8.5"
  }
 },
 "nbformat": 4,
 "nbformat_minor": 4
}
